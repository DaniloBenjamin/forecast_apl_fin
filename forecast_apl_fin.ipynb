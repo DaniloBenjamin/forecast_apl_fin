{
 "cells": [
  {
   "cell_type": "markdown",
   "metadata": {},
   "source": [
    "\n",
    "### <font color='blue'>Prevendo o Retorno de Aplicações Financeiras com Temporal Fusion Transformer</font>"
   ]
  },
  {
   "cell_type": "markdown",
   "metadata": {},
   "source": [
    "## Instalando e Carregando os Pacotes"
   ]
  },
  {
   "cell_type": "code",
   "execution_count": 3,
   "metadata": {},
   "outputs": [
    {
     "name": "stdout",
     "output_type": "stream",
     "text": [
      "env: TF_CPP_MIN_LOG_LEVEL=3\n"
     ]
    }
   ],
   "source": [
    "%env TF_CPP_MIN_LOG_LEVEL=3"
   ]
  },
  {
   "cell_type": "code",
   "execution_count": 4,
   "metadata": {},
   "outputs": [],
   "source": [
    "# https://www.tensorflow.org/\n",
    "!pip install -q tensorflow==2.12.0"
   ]
  },
  {
   "cell_type": "code",
   "execution_count": 5,
   "metadata": {
    "colab": {
     "base_uri": "https://localhost:8080/"
    },
    "id": "4XrkYw2uQfGg",
    "outputId": "9b8366f5-dc32-4246-b4aa-1d74f46f94a4"
   },
   "outputs": [],
   "source": [
    "# https://pypi.org/project/yfinance/\n",
    "!pip install -q yfinance==0.2.22"
   ]
  },
  {
   "cell_type": "code",
   "execution_count": 6,
   "metadata": {},
   "outputs": [],
   "source": [
    "# https://pypi.org/project/ta/\n",
    "!pip install -q ta==0.10.2"
   ]
  },
  {
   "cell_type": "code",
   "execution_count": 7,
   "metadata": {
    "id": "IhTKSGJXQvSo"
   },
   "outputs": [],
   "source": [
    "# Imports\n",
    "import ta\n",
    "import sklearn\n",
    "import pandas as pd\n",
    "import numpy as np\n",
    "import tensorflow\n",
    "from tensorflow import keras\n",
    "from keras import layers\n",
    "from sklearn import metrics\n",
    "from sklearn.preprocessing import StandardScaler\n",
    "import yfinance as yf\n",
    "import matplotlib.pyplot as plt\n",
    "from matplotlib import cycler\n",
    "import warnings\n",
    "warnings.filterwarnings(\"ignore\")"
   ]
  },
  {
   "cell_type": "code",
   "execution_count": 8,
   "metadata": {},
   "outputs": [],
   "source": [
    "plt.style.use('seaborn')"
   ]
  },
  {
   "cell_type": "markdown",
   "metadata": {
    "id": "Qn_NRjZL7n5f"
   },
   "source": [
    "## Função Para Extração dos Dados em Tempo Real\n",
    "\n",
    "https://finance.yahoo.com/"
   ]
  },
  {
   "cell_type": "code",
   "execution_count": 10,
   "metadata": {},
   "outputs": [],
   "source": [
    "# Função\n",
    "def extrai_dados(ticker):\n",
    "    \n",
    "    # Busca todos os dados a partir de 01/01/1990\n",
    "    dados = yf.download(ticker, start = \"1990-01-01\")\n",
    "    \n",
    "    # Colunas do dataframe\n",
    "    dados.columns = [\"open\", \"high\", \"low\", \"close\", \"adj close\", \"volume\"]\n",
    "    \n",
    "    # Data como índice\n",
    "    dados.index.name = \"date\"\n",
    "    \n",
    "    return dados"
   ]
  },
  {
   "cell_type": "markdown",
   "metadata": {
    "id": "KEY6GR3irvGz"
   },
   "source": [
    "## Função Para Engenharia de Atributos de Dados Financeiros"
   ]
  },
  {
   "cell_type": "markdown",
   "metadata": {},
   "source": [
    "O código abaixo define uma função de engenharia de atributos para um dataframe que representa dados de um ativo financeiro (ações) com colunas para 'open' (preço de abertura), 'high' (máximo do dia), 'low' (mínimo do dia), 'close' (preço de fechamento) e 'volume'. \n",
    "\n",
    "A engenharia de atributos é uma técnica usada para criar novas variáveis com base em variáveis existentes, a fim de melhorar o desempenho dos modelos de Machine Learning. Aqui está uma descrição detalhada do que o código faz:\n",
    "\n",
    "Primeiro, cria uma cópia do dataframe para não modificar o dataframe original.\n",
    "\n",
    "Em seguida, cria uma nova coluna 'retorno', que representa a mudança percentual do preço de fechamento em relação ao dia anterior.\n",
    "\n",
    "As colunas 'open', 'high', 'low', 'close' e 'volume' são então deslocadas para baixo (shifted) em uma unidade, criando as colunas 'op', 'hi', 'lo', 'clo' e 'vol'. Isso significa que a linha 'i' dessas novas colunas contém os valores da linha 'i-1' das colunas originais.\n",
    "\n",
    "A função também cria médias móveis simples (Simple Moving Average - SMA) para o preço de fechamento com janelas de 15 e 60 dias, deslocadas por uma unidade. \n",
    "\n",
    "A volatilidade, representada como o desvio padrão das mudanças percentuais do preço de fechamento, é calculada para as janelas de 15 e 60 dias, também deslocadas por uma unidade. Esse índice é conhecido como Moving Standard Deviation (MSD).\n",
    "\n",
    "Em seguida, a função cria o Volume Weighted Average Price (VWAP) com uma janela de 5 dias. O VWAP é uma medida de preço médio ponderado pelo volume.\n",
    "\n",
    "A função também adiciona o indicador RSI (Relative Strength Index) com uma janela de 5 dias. O RSI é um indicador de momento que mede a velocidade e a mudança de movimentos de preço.\n",
    "\n",
    "Finalmente, a função remove todas as linhas que contêm valores NA (que foram criados ao deslocar as colunas e calcular médias móveis e RSI com janelas).\n",
    "\n",
    "Em resumo, essa função cria várias novas características técnicas comumente usadas na análise de ativos financeiros, todas deslocadas por uma unidade, para evitar o uso de informações futuras (ou seja, vazamento de dados) no modelo de Machine Learning."
   ]
  },
  {
   "cell_type": "code",
   "execution_count": 11,
   "metadata": {
    "id": "5F4LvOoJad4N"
   },
   "outputs": [],
   "source": [
    "# Função para engenharia de atributos\n",
    "def func_engenharia_atributos(df):\n",
    "\n",
    "    # Cópia do dataframe\n",
    "    df_copy = df.copy()\n",
    "\n",
    "    # Cria a variável com o retorno (mudança percentual do fechamento - close)\n",
    "    # Essa será nossa variável alvo\n",
    "    df_copy[\"retorno\"] = df_copy[\"close\"].pct_change(1)\n",
    "\n",
    "    # Shift das colunas de preço do ativo financeiro\n",
    "    df_copy[\"op\"] = df_copy[\"open\"].shift(1)\n",
    "    df_copy[\"hi\"] = df_copy[\"high\"].shift(1)\n",
    "    df_copy[\"lo\"] = df_copy[\"low\"].shift(1)\n",
    "    df_copy[\"clo\"] = df_copy[\"close\"].shift(1)\n",
    "\n",
    "    # Shift da coluna Volume\n",
    "    df_copy[\"vol\"] = df_copy[\"volume\"].shift(1)\n",
    "\n",
    "    # Simple Moving Average (SMA)\n",
    "    df_copy[\"SMA 15\"] = df_copy[[\"close\"]].rolling(15).mean().shift(1)\n",
    "    df_copy[\"SMA 60\"] = df_copy[[\"close\"]].rolling(60).mean().shift(1)\n",
    "\n",
    "    # Moving Standard Deviation (MSD) - Volatilidade\n",
    "    df_copy[\"MSD 15\"] = df_copy[\"retorno\"].rolling(15).std().shift(1)\n",
    "    df_copy[\"MSD 60\"] = df_copy[\"retorno\"].rolling(60).std().shift(1)\n",
    "\n",
    "    # Volume Weighted Average Price (VWAP)\n",
    "    vwap = ta.volume.VolumeWeightedAveragePrice(high = df['high'],\n",
    "                                                low = df['low'],\n",
    "                                                close = df['close'],\n",
    "                                                volume = df['volume'],\n",
    "                                                window = 5)\n",
    "    \n",
    "    df_copy[\"VWAP\"] = vwap.vwap.shift(1)\n",
    "\n",
    "    # Relative Strength Index (RSI)\n",
    "    RSI = ta.momentum.RSIIndicator(df_copy[\"close\"], window = 5, fillna = False)\n",
    "    \n",
    "    df_copy[\"RSI\"] = RSI.rsi().shift(1)\n",
    "\n",
    "    return df_copy.dropna()"
   ]
  },
  {
   "cell_type": "markdown",
   "metadata": {
    "id": "riFjHKOU22aO"
   },
   "source": [
    "## Extração e Processamento dos Dados"
   ]
  },
  {
   "cell_type": "code",
   "execution_count": 12,
   "metadata": {},
   "outputs": [
    {
     "name": "stdout",
     "output_type": "stream",
     "text": [
      "[*********************100%***********************]  1 of 1 completed\n"
     ]
    }
   ],
   "source": [
    "# Extração dos dados\n",
    "df = extrai_dados(\"MSFT\")"
   ]
  },
  {
   "cell_type": "code",
   "execution_count": 13,
   "metadata": {
    "colab": {
     "base_uri": "https://localhost:8080/",
     "height": 536
    },
    "id": "u12-bjaOp2uA",
    "outputId": "e6713cfb-6d6c-4966-d047-d634ef4562c5"
   },
   "outputs": [],
   "source": [
    "# Engenharia de atributos\n",
    "df = func_engenharia_atributos(df)"
   ]
  },
  {
   "cell_type": "code",
   "execution_count": 14,
   "metadata": {},
   "outputs": [
    {
     "data": {
      "text/html": [
       "<div>\n",
       "<style scoped>\n",
       "    .dataframe tbody tr th:only-of-type {\n",
       "        vertical-align: middle;\n",
       "    }\n",
       "\n",
       "    .dataframe tbody tr th {\n",
       "        vertical-align: top;\n",
       "    }\n",
       "\n",
       "    .dataframe thead th {\n",
       "        text-align: right;\n",
       "    }\n",
       "</style>\n",
       "<table border=\"1\" class=\"dataframe\">\n",
       "  <thead>\n",
       "    <tr style=\"text-align: right;\">\n",
       "      <th></th>\n",
       "      <th>open</th>\n",
       "      <th>high</th>\n",
       "      <th>low</th>\n",
       "      <th>close</th>\n",
       "      <th>adj close</th>\n",
       "      <th>volume</th>\n",
       "      <th>retorno</th>\n",
       "      <th>op</th>\n",
       "      <th>hi</th>\n",
       "      <th>lo</th>\n",
       "      <th>clo</th>\n",
       "      <th>vol</th>\n",
       "      <th>SMA 15</th>\n",
       "      <th>SMA 60</th>\n",
       "      <th>MSD 15</th>\n",
       "      <th>MSD 60</th>\n",
       "      <th>VWAP</th>\n",
       "      <th>RSI</th>\n",
       "    </tr>\n",
       "    <tr>\n",
       "      <th>date</th>\n",
       "      <th></th>\n",
       "      <th></th>\n",
       "      <th></th>\n",
       "      <th></th>\n",
       "      <th></th>\n",
       "      <th></th>\n",
       "      <th></th>\n",
       "      <th></th>\n",
       "      <th></th>\n",
       "      <th></th>\n",
       "      <th></th>\n",
       "      <th></th>\n",
       "      <th></th>\n",
       "      <th></th>\n",
       "      <th></th>\n",
       "      <th></th>\n",
       "      <th></th>\n",
       "      <th></th>\n",
       "    </tr>\n",
       "  </thead>\n",
       "  <tbody>\n",
       "    <tr>\n",
       "      <th>1990-03-29</th>\n",
       "      <td>0.766493</td>\n",
       "      <td>0.782986</td>\n",
       "      <td>0.763889</td>\n",
       "      <td>0.767361</td>\n",
       "      <td>0.477711</td>\n",
       "      <td>64785600</td>\n",
       "      <td>-0.004504</td>\n",
       "      <td>0.779514</td>\n",
       "      <td>0.779514</td>\n",
       "      <td>0.753472</td>\n",
       "      <td>0.770833</td>\n",
       "      <td>99532800.0</td>\n",
       "      <td>0.768229</td>\n",
       "      <td>0.681944</td>\n",
       "      <td>0.019495</td>\n",
       "      <td>0.020194</td>\n",
       "      <td>0.772823</td>\n",
       "      <td>48.231148</td>\n",
       "    </tr>\n",
       "    <tr>\n",
       "      <th>1990-03-30</th>\n",
       "      <td>0.763889</td>\n",
       "      <td>0.770833</td>\n",
       "      <td>0.758681</td>\n",
       "      <td>0.769097</td>\n",
       "      <td>0.478792</td>\n",
       "      <td>36691200</td>\n",
       "      <td>0.002262</td>\n",
       "      <td>0.766493</td>\n",
       "      <td>0.782986</td>\n",
       "      <td>0.763889</td>\n",
       "      <td>0.767361</td>\n",
       "      <td>64785600.0</td>\n",
       "      <td>0.770197</td>\n",
       "      <td>0.684404</td>\n",
       "      <td>0.017916</td>\n",
       "      <td>0.020222</td>\n",
       "      <td>0.771632</td>\n",
       "      <td>44.647708</td>\n",
       "    </tr>\n",
       "    <tr>\n",
       "      <th>1990-04-02</th>\n",
       "      <td>0.762153</td>\n",
       "      <td>0.780382</td>\n",
       "      <td>0.758681</td>\n",
       "      <td>0.774306</td>\n",
       "      <td>0.482035</td>\n",
       "      <td>74059200</td>\n",
       "      <td>0.006773</td>\n",
       "      <td>0.763889</td>\n",
       "      <td>0.770833</td>\n",
       "      <td>0.758681</td>\n",
       "      <td>0.769097</td>\n",
       "      <td>36691200.0</td>\n",
       "      <td>0.772164</td>\n",
       "      <td>0.686588</td>\n",
       "      <td>0.017916</td>\n",
       "      <td>0.019941</td>\n",
       "      <td>0.771327</td>\n",
       "      <td>47.103935</td>\n",
       "    </tr>\n",
       "    <tr>\n",
       "      <th>1990-04-03</th>\n",
       "      <td>0.782986</td>\n",
       "      <td>0.807292</td>\n",
       "      <td>0.781250</td>\n",
       "      <td>0.805556</td>\n",
       "      <td>0.501489</td>\n",
       "      <td>84643200</td>\n",
       "      <td>0.040359</td>\n",
       "      <td>0.762153</td>\n",
       "      <td>0.780382</td>\n",
       "      <td>0.758681</td>\n",
       "      <td>0.774306</td>\n",
       "      <td>74059200.0</td>\n",
       "      <td>0.773669</td>\n",
       "      <td>0.689120</td>\n",
       "      <td>0.017560</td>\n",
       "      <td>0.019607</td>\n",
       "      <td>0.770822</td>\n",
       "      <td>54.651644</td>\n",
       "    </tr>\n",
       "    <tr>\n",
       "      <th>1990-04-04</th>\n",
       "      <td>0.805556</td>\n",
       "      <td>0.824653</td>\n",
       "      <td>0.802083</td>\n",
       "      <td>0.812500</td>\n",
       "      <td>0.505812</td>\n",
       "      <td>79646400</td>\n",
       "      <td>0.008620</td>\n",
       "      <td>0.782986</td>\n",
       "      <td>0.807292</td>\n",
       "      <td>0.781250</td>\n",
       "      <td>0.805556</td>\n",
       "      <td>84643200.0</td>\n",
       "      <td>0.778183</td>\n",
       "      <td>0.692014</td>\n",
       "      <td>0.019132</td>\n",
       "      <td>0.020116</td>\n",
       "      <td>0.776124</td>\n",
       "      <td>78.092875</td>\n",
       "    </tr>\n",
       "    <tr>\n",
       "      <th>...</th>\n",
       "      <td>...</td>\n",
       "      <td>...</td>\n",
       "      <td>...</td>\n",
       "      <td>...</td>\n",
       "      <td>...</td>\n",
       "      <td>...</td>\n",
       "      <td>...</td>\n",
       "      <td>...</td>\n",
       "      <td>...</td>\n",
       "      <td>...</td>\n",
       "      <td>...</td>\n",
       "      <td>...</td>\n",
       "      <td>...</td>\n",
       "      <td>...</td>\n",
       "      <td>...</td>\n",
       "      <td>...</td>\n",
       "      <td>...</td>\n",
       "      <td>...</td>\n",
       "    </tr>\n",
       "    <tr>\n",
       "      <th>2023-07-03</th>\n",
       "      <td>339.190002</td>\n",
       "      <td>340.899994</td>\n",
       "      <td>336.570007</td>\n",
       "      <td>337.989990</td>\n",
       "      <td>337.989990</td>\n",
       "      <td>12508700</td>\n",
       "      <td>-0.007488</td>\n",
       "      <td>337.750000</td>\n",
       "      <td>342.730011</td>\n",
       "      <td>337.200012</td>\n",
       "      <td>340.540009</td>\n",
       "      <td>26823800.0</td>\n",
       "      <td>336.110000</td>\n",
       "      <td>314.281499</td>\n",
       "      <td>0.015559</td>\n",
       "      <td>0.016990</td>\n",
       "      <td>335.219746</td>\n",
       "      <td>63.311139</td>\n",
       "    </tr>\n",
       "    <tr>\n",
       "      <th>2023-07-05</th>\n",
       "      <td>335.089996</td>\n",
       "      <td>341.649994</td>\n",
       "      <td>334.730011</td>\n",
       "      <td>338.149994</td>\n",
       "      <td>338.149994</td>\n",
       "      <td>18172400</td>\n",
       "      <td>0.000473</td>\n",
       "      <td>339.190002</td>\n",
       "      <td>340.899994</td>\n",
       "      <td>336.570007</td>\n",
       "      <td>337.989990</td>\n",
       "      <td>12508700.0</td>\n",
       "      <td>336.856665</td>\n",
       "      <td>315.175666</td>\n",
       "      <td>0.015790</td>\n",
       "      <td>0.016962</td>\n",
       "      <td>336.509995</td>\n",
       "      <td>54.913200</td>\n",
       "    </tr>\n",
       "    <tr>\n",
       "      <th>2023-07-06</th>\n",
       "      <td>337.299988</td>\n",
       "      <td>342.989990</td>\n",
       "      <td>335.500000</td>\n",
       "      <td>341.269989</td>\n",
       "      <td>341.269989</td>\n",
       "      <td>28161200</td>\n",
       "      <td>0.009227</td>\n",
       "      <td>335.089996</td>\n",
       "      <td>341.649994</td>\n",
       "      <td>334.730011</td>\n",
       "      <td>338.149994</td>\n",
       "      <td>18172400.0</td>\n",
       "      <td>337.276664</td>\n",
       "      <td>315.951499</td>\n",
       "      <td>0.015370</td>\n",
       "      <td>0.016705</td>\n",
       "      <td>337.644316</td>\n",
       "      <td>55.377442</td>\n",
       "    </tr>\n",
       "    <tr>\n",
       "      <th>2023-07-07</th>\n",
       "      <td>339.320007</td>\n",
       "      <td>341.790009</td>\n",
       "      <td>337.000000</td>\n",
       "      <td>337.220001</td>\n",
       "      <td>337.220001</td>\n",
       "      <td>21185300</td>\n",
       "      <td>-0.011867</td>\n",
       "      <td>337.299988</td>\n",
       "      <td>342.989990</td>\n",
       "      <td>335.500000</td>\n",
       "      <td>341.269989</td>\n",
       "      <td>28161200.0</td>\n",
       "      <td>337.741996</td>\n",
       "      <td>316.816165</td>\n",
       "      <td>0.015429</td>\n",
       "      <td>0.016672</td>\n",
       "      <td>338.616719</td>\n",
       "      <td>64.329740</td>\n",
       "    </tr>\n",
       "    <tr>\n",
       "      <th>2023-07-10</th>\n",
       "      <td>334.600006</td>\n",
       "      <td>335.230011</td>\n",
       "      <td>327.589996</td>\n",
       "      <td>331.829987</td>\n",
       "      <td>331.829987</td>\n",
       "      <td>31765872</td>\n",
       "      <td>-0.015984</td>\n",
       "      <td>339.320007</td>\n",
       "      <td>341.790009</td>\n",
       "      <td>337.000000</td>\n",
       "      <td>337.220001</td>\n",
       "      <td>21185300.0</td>\n",
       "      <td>337.733997</td>\n",
       "      <td>317.722665</td>\n",
       "      <td>0.015638</td>\n",
       "      <td>0.016449</td>\n",
       "      <td>339.267291</td>\n",
       "      <td>48.531365</td>\n",
       "    </tr>\n",
       "  </tbody>\n",
       "</table>\n",
       "<p>8383 rows × 18 columns</p>\n",
       "</div>"
      ],
      "text/plain": [
       "                  open        high         low       close   adj close  \\\n",
       "date                                                                     \n",
       "1990-03-29    0.766493    0.782986    0.763889    0.767361    0.477711   \n",
       "1990-03-30    0.763889    0.770833    0.758681    0.769097    0.478792   \n",
       "1990-04-02    0.762153    0.780382    0.758681    0.774306    0.482035   \n",
       "1990-04-03    0.782986    0.807292    0.781250    0.805556    0.501489   \n",
       "1990-04-04    0.805556    0.824653    0.802083    0.812500    0.505812   \n",
       "...                ...         ...         ...         ...         ...   \n",
       "2023-07-03  339.190002  340.899994  336.570007  337.989990  337.989990   \n",
       "2023-07-05  335.089996  341.649994  334.730011  338.149994  338.149994   \n",
       "2023-07-06  337.299988  342.989990  335.500000  341.269989  341.269989   \n",
       "2023-07-07  339.320007  341.790009  337.000000  337.220001  337.220001   \n",
       "2023-07-10  334.600006  335.230011  327.589996  331.829987  331.829987   \n",
       "\n",
       "              volume   retorno          op          hi          lo  \\\n",
       "date                                                                 \n",
       "1990-03-29  64785600 -0.004504    0.779514    0.779514    0.753472   \n",
       "1990-03-30  36691200  0.002262    0.766493    0.782986    0.763889   \n",
       "1990-04-02  74059200  0.006773    0.763889    0.770833    0.758681   \n",
       "1990-04-03  84643200  0.040359    0.762153    0.780382    0.758681   \n",
       "1990-04-04  79646400  0.008620    0.782986    0.807292    0.781250   \n",
       "...              ...       ...         ...         ...         ...   \n",
       "2023-07-03  12508700 -0.007488  337.750000  342.730011  337.200012   \n",
       "2023-07-05  18172400  0.000473  339.190002  340.899994  336.570007   \n",
       "2023-07-06  28161200  0.009227  335.089996  341.649994  334.730011   \n",
       "2023-07-07  21185300 -0.011867  337.299988  342.989990  335.500000   \n",
       "2023-07-10  31765872 -0.015984  339.320007  341.790009  337.000000   \n",
       "\n",
       "                   clo         vol      SMA 15      SMA 60    MSD 15  \\\n",
       "date                                                                   \n",
       "1990-03-29    0.770833  99532800.0    0.768229    0.681944  0.019495   \n",
       "1990-03-30    0.767361  64785600.0    0.770197    0.684404  0.017916   \n",
       "1990-04-02    0.769097  36691200.0    0.772164    0.686588  0.017916   \n",
       "1990-04-03    0.774306  74059200.0    0.773669    0.689120  0.017560   \n",
       "1990-04-04    0.805556  84643200.0    0.778183    0.692014  0.019132   \n",
       "...                ...         ...         ...         ...       ...   \n",
       "2023-07-03  340.540009  26823800.0  336.110000  314.281499  0.015559   \n",
       "2023-07-05  337.989990  12508700.0  336.856665  315.175666  0.015790   \n",
       "2023-07-06  338.149994  18172400.0  337.276664  315.951499  0.015370   \n",
       "2023-07-07  341.269989  28161200.0  337.741996  316.816165  0.015429   \n",
       "2023-07-10  337.220001  21185300.0  337.733997  317.722665  0.015638   \n",
       "\n",
       "              MSD 60        VWAP        RSI  \n",
       "date                                         \n",
       "1990-03-29  0.020194    0.772823  48.231148  \n",
       "1990-03-30  0.020222    0.771632  44.647708  \n",
       "1990-04-02  0.019941    0.771327  47.103935  \n",
       "1990-04-03  0.019607    0.770822  54.651644  \n",
       "1990-04-04  0.020116    0.776124  78.092875  \n",
       "...              ...         ...        ...  \n",
       "2023-07-03  0.016990  335.219746  63.311139  \n",
       "2023-07-05  0.016962  336.509995  54.913200  \n",
       "2023-07-06  0.016705  337.644316  55.377442  \n",
       "2023-07-07  0.016672  338.616719  64.329740  \n",
       "2023-07-10  0.016449  339.267291  48.531365  \n",
       "\n",
       "[8383 rows x 18 columns]"
      ]
     },
     "execution_count": 14,
     "metadata": {},
     "output_type": "execute_result"
    }
   ],
   "source": [
    "df"
   ]
  },
  {
   "cell_type": "markdown",
   "metadata": {
    "id": "iNZcj-s6Vp2R"
   },
   "source": [
    "> Divisão dos Dados em Treino, Validação e Teste"
   ]
  },
  {
   "cell_type": "code",
   "execution_count": 15,
   "metadata": {},
   "outputs": [],
   "source": [
    "# Percentual de split de treino e validação\n",
    "split = int(0.85*len(df))\n",
    "split_val = int(0.95*len(df))"
   ]
  },
  {
   "cell_type": "code",
   "execution_count": 16,
   "metadata": {},
   "outputs": [
    {
     "data": {
      "text/plain": [
       "Index(['open', 'high', 'low', 'close', 'adj close', 'volume', 'retorno', 'op',\n",
       "       'hi', 'lo', 'clo', 'vol', 'SMA 15', 'SMA 60', 'MSD 15', 'MSD 60',\n",
       "       'VWAP', 'RSI'],\n",
       "      dtype='object')"
      ]
     },
     "execution_count": 16,
     "metadata": {},
     "output_type": "execute_result"
    }
   ],
   "source": [
    "df.columns"
   ]
  },
  {
   "cell_type": "code",
   "execution_count": 17,
   "metadata": {},
   "outputs": [],
   "source": [
    "# Dataset de treino\n",
    "x_treino = df[['VWAP','RSI','SMA 15','SMA 60','MSD 15','MSD 60','op','hi','lo','clo','vol']].iloc[:split,:]\n",
    "y_treino = df[['retorno']].iloc[:split,:]"
   ]
  },
  {
   "cell_type": "code",
   "execution_count": 18,
   "metadata": {},
   "outputs": [],
   "source": [
    "# Dataset de validação\n",
    "x_valid = df[['VWAP','RSI','SMA 15','SMA 60','MSD 15','MSD 60','op','hi','lo','clo','vol']].iloc[split:split_val,:]\n",
    "y_valid = df[['retorno']].iloc[split:split_val,:]"
   ]
  },
  {
   "cell_type": "code",
   "execution_count": 19,
   "metadata": {},
   "outputs": [],
   "source": [
    "# Dataset de teste\n",
    "x_teste = df[['VWAP','RSI','SMA 15','SMA 60','MSD 15','MSD 60','op','hi','lo','clo','vol']].iloc[split_val:,:]\n",
    "y_teste = df[['retorno']].iloc[split_val:,:]"
   ]
  },
  {
   "cell_type": "markdown",
   "metadata": {},
   "source": [
    "> Padronização"
   ]
  },
  {
   "cell_type": "code",
   "execution_count": 20,
   "metadata": {},
   "outputs": [],
   "source": [
    "# Cria o padronizador\n",
    "sc = StandardScaler()"
   ]
  },
  {
   "cell_type": "code",
   "execution_count": 21,
   "metadata": {},
   "outputs": [],
   "source": [
    "# Fit e transform nos dados de treino\n",
    "x_treino_sc = sc.fit_transform(x_treino)"
   ]
  },
  {
   "cell_type": "code",
   "execution_count": 22,
   "metadata": {},
   "outputs": [],
   "source": [
    "# Transform nos dados de validação\n",
    "x_valid_sc = sc.transform(x_valid)"
   ]
  },
  {
   "cell_type": "code",
   "execution_count": 23,
   "metadata": {
    "id": "SBaewsY_p2uB"
   },
   "outputs": [],
   "source": [
    "# Transform nos dados de teste\n",
    "x_teste_sc = sc.transform(x_teste)"
   ]
  },
  {
   "cell_type": "markdown",
   "metadata": {},
   "source": [
    "## Ajuste no Formato dos Dados"
   ]
  },
  {
   "cell_type": "markdown",
   "metadata": {
    "id": "DrtdAn2rERcP"
   },
   "source": [
    "Este código abaixo define uma função que é usada para transformar séries de tempo para um formato adequado para treinamento de Redes Neurais Recorrentes (RNNs), como Long Short Term Memory (LSTM) ou GRU. Os modelos RNN precisam de um formato de entrada específico porque levam em conta a sequência temporal dos dados.\n",
    "\n",
    "O código realiza as seguintes operações:\n",
    "\n",
    "Primeiro, verifica se as entradas X_s e y_s possuem a mesma extensão. Se não, imprime um aviso.\n",
    "\n",
    "Em seguida, cria a variável X_train. Essa variável é criada iterando sobre todas as variáveis em X_s e criando 'janelas' de tamanho lag para cada uma delas. Ou seja, para cada ponto no tempo i, ele pega os lag pontos anteriores para cada variável e armazena isso numa lista. Ao final do processo, temos uma lista de listas para cada variável.\n",
    "\n",
    "X_train é então transformado em um array NumPy e as dimensões são reordenadas. A chamada ao método swapaxes é feita duas vezes para garantir que as dimensões estejam na ordem correta para a entrada da RNN. A ordem final é (amostras, passos de tempo, características).\n",
    "\n",
    "Depois, a função cria y_train que contém a variável alvo correspondente para cada janela em X_train. Ele faz isso iterando sobre y_s de lag até o final e armazenando cada valor em uma lista.\n",
    "\n",
    "Por fim, y_train é convertido em um array NumPy usando o método concatenate, que combina uma lista de arrays NumPy em um único array.\n",
    "\n",
    "A função retorna X_train e y_train, que estão agora em um formato adequado para serem usados para treinar uma RNN. A ideia geral aqui é que, para prever o valor de y em um certo ponto no tempo, você usará os lag pontos anteriores de X."
   ]
  },
  {
   "cell_type": "code",
   "execution_count": 24,
   "metadata": {
    "id": "xDqD3eTDEWvo"
   },
   "outputs": [],
   "source": [
    "# Função para ajustar o formato dos dados\n",
    "def ajusta_formato_dados(X_s, y_s, lag):\n",
    "\n",
    "    if len(X_s) != len(y_s):\n",
    "        print(\"Warnings\")\n",
    "\n",
    "    X_train = []\n",
    "    \n",
    "    for variable in range(0, X_s.shape[1]):\n",
    "        \n",
    "        X = []\n",
    "        \n",
    "        for i in range(lag, X_s.shape[0]):\n",
    "            X.append(X_s[i-lag:i, variable])\n",
    "        \n",
    "        X_train.append(X)\n",
    "    \n",
    "    X_train, np.array(X_train)\n",
    "    \n",
    "    X_train = np.swapaxes(np.swapaxes(X_train, 0, 1), 1, 2)\n",
    "\n",
    "    y_train = []\n",
    "    \n",
    "    for i in range(lag, y_s.shape[0]):\n",
    "        y_train.append(y_s[i, :].reshape(-1,1).transpose())\n",
    "    \n",
    "    y_train = np.concatenate(y_train, axis = 0)\n",
    "    \n",
    "    return X_train, y_train"
   ]
  },
  {
   "cell_type": "code",
   "execution_count": 25,
   "metadata": {},
   "outputs": [],
   "source": [
    "# Valor do Lag\n",
    "lag = 15"
   ]
  },
  {
   "cell_type": "code",
   "execution_count": 26,
   "metadata": {},
   "outputs": [],
   "source": [
    "# Aplica a função nos dados de treino\n",
    "x_treino_final, y_treino_final = ajusta_formato_dados(x_treino_sc, y_treino.values, lag)"
   ]
  },
  {
   "cell_type": "code",
   "execution_count": 27,
   "metadata": {},
   "outputs": [],
   "source": [
    "# Aplica a função nos dados de validação\n",
    "x_valid_final, y_valid_final = ajusta_formato_dados(x_valid_sc, y_valid.values, lag)"
   ]
  },
  {
   "cell_type": "code",
   "execution_count": 28,
   "metadata": {
    "id": "rlJJ4cRVHshH"
   },
   "outputs": [],
   "source": [
    "# Aplica a função nos dados de teste\n",
    "x_teste_final, y_teste_final = ajusta_formato_dados(x_teste_sc, y_teste.values, lag)"
   ]
  },
  {
   "cell_type": "code",
   "execution_count": 29,
   "metadata": {
    "colab": {
     "base_uri": "https://localhost:8080/"
    },
    "id": "yCmIi9AzgpaG",
    "outputId": "eb59d9de-94d7-489f-8007-ea630a282590"
   },
   "outputs": [
    {
     "name": "stdout",
     "output_type": "stream",
     "text": [
      "Shape dos dados de treino: (7110, 15, 11)\n",
      "Shape dos dados de validação: (823, 15, 11)\n",
      "Shape dos dados de teste: (405, 15, 11)\n"
     ]
    }
   ],
   "source": [
    "print(f\"Shape dos dados de treino: {x_treino_final.shape}\")\n",
    "print(f\"Shape dos dados de validação: {x_valid_final.shape}\")\n",
    "print(f\"Shape dos dados de teste: {x_teste_final.shape}\")"
   ]
  },
  {
   "cell_type": "markdown",
   "metadata": {},
   "source": [
    "## Construção do Modelo Temporal Fusion Transformer\n",
    "\n",
    "(https://keras.io/examples/timeseries/timeseries_transformer_classification"
   ]
  },
  {
   "cell_type": "code",
   "execution_count": 30,
   "metadata": {
    "id": "YZ5ltq1L397v"
   },
   "outputs": [],
   "source": [
    "# Função do transformer encoder\n",
    "def transformer_encoder(inputs, head_size, num_heads, ff_dim, dropout = 0):\n",
    "    \n",
    "    # Normalização\n",
    "    x = layers.LayerNormalization(epsilon = 1e-6)(inputs)\n",
    "    \n",
    "    # Atenção\n",
    "    x = layers.MultiHeadAttention(key_dim = head_size, num_heads = num_heads, dropout = dropout)(x, x, x)\n",
    "    \n",
    "    # Dropout\n",
    "    x = layers.Dropout(dropout)(x)\n",
    "    \n",
    "    # Camadas e dados\n",
    "    res = x + inputs\n",
    "\n",
    "    # Feed Forward \n",
    "    x = layers.LayerNormalization(epsilon = 1e-6)(res)\n",
    "    x = layers.Conv1D(filters = ff_dim, kernel_size = 1, activation = \"relu\")(x)\n",
    "    x = layers.Dropout(dropout)(x)\n",
    "    x = layers.Conv1D(filters = inputs.shape[-1], kernel_size = 1)(x)\n",
    "    \n",
    "    return x + res"
   ]
  },
  {
   "cell_type": "markdown",
   "metadata": {
    "id": "Et2peKf3Z4H_"
   },
   "source": [
    "A função abaixo é usada para construir o modelo final com LSTM, GRU e Transformer."
   ]
  },
  {
   "cell_type": "code",
   "execution_count": 31,
   "metadata": {
    "id": "HUAVPayh4MKc"
   },
   "outputs": [],
   "source": [
    "# Função de criação do modelo\n",
    "def cria_modelo(input_shape, \n",
    "                head_size, \n",
    "                num_heads, \n",
    "                ff_dim, \n",
    "                num_transformer_blocks, \n",
    "                mlp_units, \n",
    "                dropout = 0, \n",
    "                mlp_dropout = 0):\n",
    "    \n",
    "    inputs = keras.Input(shape = input_shape)\n",
    "    \n",
    "    x = inputs\n",
    "    \n",
    "    x = layers.LSTM(10, return_sequences = True)(x)\n",
    "    \n",
    "    for _ in range(num_transformer_blocks):\n",
    "        x = transformer_encoder(x, head_size, num_heads, ff_dim, dropout)\n",
    "    \n",
    "    x = layers.GRU(100, return_sequences = False)(x)\n",
    "    \n",
    "    x = layers.Dropout(mlp_dropout)(x)\n",
    "    \n",
    "    x = layers.Dense(mlp_units, activation = \"relu\")(x)\n",
    "    \n",
    "    outputs = layers.Dense(1)(x)\n",
    "    \n",
    "    return keras.Model(inputs, outputs)"
   ]
  },
  {
   "cell_type": "code",
   "execution_count": 32,
   "metadata": {},
   "outputs": [],
   "source": [
    "# Shape de entrada\n",
    "input_shape = x_treino_final.shape[1:]"
   ]
  },
  {
   "cell_type": "code",
   "execution_count": 33,
   "metadata": {},
   "outputs": [],
   "source": [
    "# Cria o modeloo\n",
    "modelo = cria_modelo(input_shape,\n",
    "                     head_size = 16,\n",
    "                     num_heads = 1,\n",
    "                     ff_dim = 4,\n",
    "                     num_transformer_blocks = 1,\n",
    "                     mlp_units = 125,\n",
    "                     dropout = 0.1,\n",
    "                     mlp_dropout = 0.25)"
   ]
  },
  {
   "cell_type": "code",
   "execution_count": 34,
   "metadata": {},
   "outputs": [],
   "source": [
    "# Compila o modelo\n",
    "modelo.compile(loss = \"mean_squared_error\", optimizer = keras.optimizers.Adam())"
   ]
  },
  {
   "cell_type": "code",
   "execution_count": 35,
   "metadata": {},
   "outputs": [
    {
     "name": "stdout",
     "output_type": "stream",
     "text": [
      "Model: \"model\"\n",
      "__________________________________________________________________________________________________\n",
      " Layer (type)                   Output Shape         Param #     Connected to                     \n",
      "==================================================================================================\n",
      " input_1 (InputLayer)           [(None, 15, 11)]     0           []                               \n",
      "                                                                                                  \n",
      " lstm (LSTM)                    (None, 15, 10)       880         ['input_1[0][0]']                \n",
      "                                                                                                  \n",
      " layer_normalization (LayerNorm  (None, 15, 10)      20          ['lstm[0][0]']                   \n",
      " alization)                                                                                       \n",
      "                                                                                                  \n",
      " multi_head_attention (MultiHea  (None, 15, 10)      698         ['layer_normalization[0][0]',    \n",
      " dAttention)                                                      'layer_normalization[0][0]',    \n",
      "                                                                  'layer_normalization[0][0]']    \n",
      "                                                                                                  \n",
      " dropout (Dropout)              (None, 15, 10)       0           ['multi_head_attention[0][0]']   \n",
      "                                                                                                  \n",
      " tf.__operators__.add (TFOpLamb  (None, 15, 10)      0           ['dropout[0][0]',                \n",
      " da)                                                              'lstm[0][0]']                   \n",
      "                                                                                                  \n",
      " layer_normalization_1 (LayerNo  (None, 15, 10)      20          ['tf.__operators__.add[0][0]']   \n",
      " rmalization)                                                                                     \n",
      "                                                                                                  \n",
      " conv1d (Conv1D)                (None, 15, 4)        44          ['layer_normalization_1[0][0]']  \n",
      "                                                                                                  \n",
      " dropout_1 (Dropout)            (None, 15, 4)        0           ['conv1d[0][0]']                 \n",
      "                                                                                                  \n",
      " conv1d_1 (Conv1D)              (None, 15, 10)       50          ['dropout_1[0][0]']              \n",
      "                                                                                                  \n",
      " tf.__operators__.add_1 (TFOpLa  (None, 15, 10)      0           ['conv1d_1[0][0]',               \n",
      " mbda)                                                            'tf.__operators__.add[0][0]']   \n",
      "                                                                                                  \n",
      " gru (GRU)                      (None, 100)          33600       ['tf.__operators__.add_1[0][0]'] \n",
      "                                                                                                  \n",
      " dropout_2 (Dropout)            (None, 100)          0           ['gru[0][0]']                    \n",
      "                                                                                                  \n",
      " dense (Dense)                  (None, 125)          12625       ['dropout_2[0][0]']              \n",
      "                                                                                                  \n",
      " dense_1 (Dense)                (None, 1)            126         ['dense[0][0]']                  \n",
      "                                                                                                  \n",
      "==================================================================================================\n",
      "Total params: 48,063\n",
      "Trainable params: 48,063\n",
      "Non-trainable params: 0\n",
      "__________________________________________________________________________________________________\n"
     ]
    }
   ],
   "source": [
    "modelo.summary()"
   ]
  },
  {
   "cell_type": "code",
   "execution_count": 36,
   "metadata": {},
   "outputs": [],
   "source": [
    "# Callbacks\n",
    "callbacks = [keras.callbacks.EarlyStopping(patience = 5, restore_best_weights = True)]"
   ]
  },
  {
   "cell_type": "code",
   "execution_count": 37,
   "metadata": {
    "colab": {
     "base_uri": "https://localhost:8080/"
    },
    "id": "ZzacEsJip2uB",
    "outputId": "7091065d-1184-48dc-e52d-fc3f28cde029"
   },
   "outputs": [
    {
     "name": "stdout",
     "output_type": "stream",
     "text": [
      "Epoch 1/20\n",
      "112/112 [==============================] - 3s 13ms/step - loss: 0.0033 - val_loss: 4.9044e-04\n",
      "Epoch 2/20\n",
      "112/112 [==============================] - 1s 10ms/step - loss: 7.8670e-04 - val_loss: 3.9908e-04\n",
      "Epoch 3/20\n",
      "112/112 [==============================] - 1s 10ms/step - loss: 5.9770e-04 - val_loss: 4.0056e-04\n",
      "Epoch 4/20\n",
      "112/112 [==============================] - 1s 10ms/step - loss: 5.4764e-04 - val_loss: 4.4321e-04\n",
      "Epoch 5/20\n",
      "112/112 [==============================] - 1s 10ms/step - loss: 5.0977e-04 - val_loss: 6.0422e-04\n",
      "Epoch 6/20\n",
      "112/112 [==============================] - 1s 10ms/step - loss: 4.9419e-04 - val_loss: 4.7029e-04\n",
      "Epoch 7/20\n",
      "112/112 [==============================] - 1s 10ms/step - loss: 4.7172e-04 - val_loss: 6.4812e-04\n",
      "CPU times: user 20.5 s, sys: 1.88 s, total: 22.3 s\n",
      "Wall time: 10.2 s\n"
     ]
    },
    {
     "data": {
      "text/plain": [
       "<keras.callbacks.History at 0x7fceaa529b50>"
      ]
     },
     "execution_count": 37,
     "metadata": {},
     "output_type": "execute_result"
    }
   ],
   "source": [
    "%%time\n",
    "\n",
    "# Treinamento do modelo\n",
    "modelo.fit(x_treino_final,\n",
    "           y_treino_final,\n",
    "           validation_data = (x_valid_final, y_valid_final),\n",
    "           epochs = 20,\n",
    "           batch_size = 64,\n",
    "           callbacks = callbacks)"
   ]
  },
  {
   "cell_type": "code",
   "execution_count": 38,
   "metadata": {
    "colab": {
     "base_uri": "https://localhost:8080/",
     "height": 364
    },
    "id": "BfM3jqhSI5Ns",
    "outputId": "71b8773f-167f-4928-a5c6-d14f5fb04d95"
   },
   "outputs": [
    {
     "data": {
      "text/plain": [
       "<AxesSubplot:>"
      ]
     },
     "execution_count": 38,
     "metadata": {},
     "output_type": "execute_result"
    },
    {
     "data": {
      "image/png": "[encoded data removed]",
      "text/plain": [
       "<Figure size 800x550 with 1 Axes>"
      ]
     },
     "metadata": {},
     "output_type": "display_data"
    }
   ],
   "source": [
    "pd.DataFrame(modelo.history.history).plot()"
   ]
  },
  {
   "cell_type": "code",
   "execution_count": 39,
   "metadata": {},
   "outputs": [
    {
     "name": "stdout",
     "output_type": "stream",
     "text": [
      "13/13 [==============================] - 1s 3ms/step\n"
     ]
    }
   ],
   "source": [
    "pred = modelo.predict(x_teste_final)"
   ]
  },
  {
   "cell_type": "code",
   "execution_count": 40,
   "metadata": {},
   "outputs": [],
   "source": [
    "score = np.sqrt(metrics.mean_squared_error(pred, y_teste_final))"
   ]
  },
  {
   "cell_type": "code",
   "execution_count": 41,
   "metadata": {
    "colab": {
     "base_uri": "https://localhost:8080/"
    },
    "id": "DqiV9Oq2p2uB",
    "outputId": "3d8db221-9b40-4b5f-86d5-b2296060bc29"
   },
   "outputs": [
    {
     "name": "stdout",
     "output_type": "stream",
     "text": [
      "Score (RMSE): 0.020599476797915933\n"
     ]
    }
   ],
   "source": [
    "print(\"Score (RMSE): {}\".format(score))"
   ]
  },
  {
   "cell_type": "markdown",
   "metadata": {},
   "source": [
    "## Previsões e Cálculo do Retorno\n",
    "\n",
    "A linha de código abaixo está realizando a seguinte operação:\n",
    "\n",
    "- Está prevendo valores usando o modelo treinado chamado modelo para a entrada x_treino_final. Essa previsão retorna um array NumPy.\n",
    "\n",
    "- Está criando um array NumPy de zeros com dimensões [lag,1]. A variável lag é geralmente um número inteiro que se refere a um período de atraso ou defasagem (por exemplo, se você está trabalhando com séries temporais e deseja considerar os 5 valores anteriores, o lag seria 5).\n",
    "\n",
    "- Depois disso, está concatenando o array de zeros com as previsões do modelo ao longo do eixo 0 (ou seja, verticalmente). A razão para fazer isso é para ajustar o formato dos dados, porque você teve um deslocamento de lag ao criar os dados de entrada para o modelo, então agora precisa preencher esses primeiros lag pontos nos dados de saída.\n",
    "\n",
    "Repetimos o mesmo com dados de validação e teste e então concatenamos."
   ]
  },
  {
   "cell_type": "code",
   "execution_count": 42,
   "metadata": {},
   "outputs": [
    {
     "name": "stdout",
     "output_type": "stream",
     "text": [
      "223/223 [==============================] - 1s 4ms/step\n"
     ]
    }
   ],
   "source": [
    "y_pred_treino = np.concatenate((np.zeros([lag,1]), modelo.predict(x_treino_final)), axis = 0)"
   ]
  },
  {
   "cell_type": "code",
   "execution_count": 43,
   "metadata": {},
   "outputs": [
    {
     "name": "stdout",
     "output_type": "stream",
     "text": [
      "26/26 [==============================] - 0s 3ms/step\n"
     ]
    }
   ],
   "source": [
    "y_pred_valid = np.concatenate((np.zeros([lag,1]), modelo.predict(x_valid_final)), axis = 0)"
   ]
  },
  {
   "cell_type": "code",
   "execution_count": 44,
   "metadata": {},
   "outputs": [
    {
     "name": "stdout",
     "output_type": "stream",
     "text": [
      "13/13 [==============================] - 0s 3ms/step\n"
     ]
    }
   ],
   "source": [
    "y_pred_teste = np.concatenate((np.zeros([lag,1]), modelo.predict(x_teste_final)), axis = 0)"
   ]
  },
  {
   "cell_type": "code",
   "execution_count": 45,
   "metadata": {},
   "outputs": [],
   "source": [
    "# Concatena as previsões em treino, valid e teste como previsão final\n",
    "df[\"prediction\"] = np.concatenate((y_pred_treino, y_pred_valid, y_pred_teste), axis = 0)"
   ]
  },
  {
   "cell_type": "code",
   "execution_count": 46,
   "metadata": {},
   "outputs": [
    {
     "data": {
      "text/html": [
       "<div>\n",
       "<style scoped>\n",
       "    .dataframe tbody tr th:only-of-type {\n",
       "        vertical-align: middle;\n",
       "    }\n",
       "\n",
       "    .dataframe tbody tr th {\n",
       "        vertical-align: top;\n",
       "    }\n",
       "\n",
       "    .dataframe thead th {\n",
       "        text-align: right;\n",
       "    }\n",
       "</style>\n",
       "<table border=\"1\" class=\"dataframe\">\n",
       "  <thead>\n",
       "    <tr style=\"text-align: right;\">\n",
       "      <th></th>\n",
       "      <th>open</th>\n",
       "      <th>high</th>\n",
       "      <th>low</th>\n",
       "      <th>close</th>\n",
       "      <th>adj close</th>\n",
       "      <th>volume</th>\n",
       "      <th>retorno</th>\n",
       "      <th>op</th>\n",
       "      <th>hi</th>\n",
       "      <th>lo</th>\n",
       "      <th>clo</th>\n",
       "      <th>vol</th>\n",
       "      <th>SMA 15</th>\n",
       "      <th>SMA 60</th>\n",
       "      <th>MSD 15</th>\n",
       "      <th>MSD 60</th>\n",
       "      <th>VWAP</th>\n",
       "      <th>RSI</th>\n",
       "      <th>prediction</th>\n",
       "    </tr>\n",
       "    <tr>\n",
       "      <th>date</th>\n",
       "      <th></th>\n",
       "      <th></th>\n",
       "      <th></th>\n",
       "      <th></th>\n",
       "      <th></th>\n",
       "      <th></th>\n",
       "      <th></th>\n",
       "      <th></th>\n",
       "      <th></th>\n",
       "      <th></th>\n",
       "      <th></th>\n",
       "      <th></th>\n",
       "      <th></th>\n",
       "      <th></th>\n",
       "      <th></th>\n",
       "      <th></th>\n",
       "      <th></th>\n",
       "      <th></th>\n",
       "      <th></th>\n",
       "    </tr>\n",
       "  </thead>\n",
       "  <tbody>\n",
       "    <tr>\n",
       "      <th>2023-07-03</th>\n",
       "      <td>339.190002</td>\n",
       "      <td>340.899994</td>\n",
       "      <td>336.570007</td>\n",
       "      <td>337.989990</td>\n",
       "      <td>337.989990</td>\n",
       "      <td>12508700</td>\n",
       "      <td>-0.007488</td>\n",
       "      <td>337.750000</td>\n",
       "      <td>342.730011</td>\n",
       "      <td>337.200012</td>\n",
       "      <td>340.540009</td>\n",
       "      <td>26823800.0</td>\n",
       "      <td>336.110000</td>\n",
       "      <td>314.281499</td>\n",
       "      <td>0.015559</td>\n",
       "      <td>0.016990</td>\n",
       "      <td>335.219746</td>\n",
       "      <td>63.311139</td>\n",
       "      <td>-0.000284</td>\n",
       "    </tr>\n",
       "    <tr>\n",
       "      <th>2023-07-05</th>\n",
       "      <td>335.089996</td>\n",
       "      <td>341.649994</td>\n",
       "      <td>334.730011</td>\n",
       "      <td>338.149994</td>\n",
       "      <td>338.149994</td>\n",
       "      <td>18172400</td>\n",
       "      <td>0.000473</td>\n",
       "      <td>339.190002</td>\n",
       "      <td>340.899994</td>\n",
       "      <td>336.570007</td>\n",
       "      <td>337.989990</td>\n",
       "      <td>12508700.0</td>\n",
       "      <td>336.856665</td>\n",
       "      <td>315.175666</td>\n",
       "      <td>0.015790</td>\n",
       "      <td>0.016962</td>\n",
       "      <td>336.509995</td>\n",
       "      <td>54.913200</td>\n",
       "      <td>-0.000517</td>\n",
       "    </tr>\n",
       "    <tr>\n",
       "      <th>2023-07-06</th>\n",
       "      <td>337.299988</td>\n",
       "      <td>342.989990</td>\n",
       "      <td>335.500000</td>\n",
       "      <td>341.269989</td>\n",
       "      <td>341.269989</td>\n",
       "      <td>28161200</td>\n",
       "      <td>0.009227</td>\n",
       "      <td>335.089996</td>\n",
       "      <td>341.649994</td>\n",
       "      <td>334.730011</td>\n",
       "      <td>338.149994</td>\n",
       "      <td>18172400.0</td>\n",
       "      <td>337.276664</td>\n",
       "      <td>315.951499</td>\n",
       "      <td>0.015370</td>\n",
       "      <td>0.016705</td>\n",
       "      <td>337.644316</td>\n",
       "      <td>55.377442</td>\n",
       "      <td>-0.000444</td>\n",
       "    </tr>\n",
       "    <tr>\n",
       "      <th>2023-07-07</th>\n",
       "      <td>339.320007</td>\n",
       "      <td>341.790009</td>\n",
       "      <td>337.000000</td>\n",
       "      <td>337.220001</td>\n",
       "      <td>337.220001</td>\n",
       "      <td>21185300</td>\n",
       "      <td>-0.011867</td>\n",
       "      <td>337.299988</td>\n",
       "      <td>342.989990</td>\n",
       "      <td>335.500000</td>\n",
       "      <td>341.269989</td>\n",
       "      <td>28161200.0</td>\n",
       "      <td>337.741996</td>\n",
       "      <td>316.816165</td>\n",
       "      <td>0.015429</td>\n",
       "      <td>0.016672</td>\n",
       "      <td>338.616719</td>\n",
       "      <td>64.329740</td>\n",
       "      <td>-0.000440</td>\n",
       "    </tr>\n",
       "    <tr>\n",
       "      <th>2023-07-10</th>\n",
       "      <td>334.600006</td>\n",
       "      <td>335.230011</td>\n",
       "      <td>327.589996</td>\n",
       "      <td>331.829987</td>\n",
       "      <td>331.829987</td>\n",
       "      <td>31765872</td>\n",
       "      <td>-0.015984</td>\n",
       "      <td>339.320007</td>\n",
       "      <td>341.790009</td>\n",
       "      <td>337.000000</td>\n",
       "      <td>337.220001</td>\n",
       "      <td>21185300.0</td>\n",
       "      <td>337.733997</td>\n",
       "      <td>317.722665</td>\n",
       "      <td>0.015638</td>\n",
       "      <td>0.016449</td>\n",
       "      <td>339.267291</td>\n",
       "      <td>48.531365</td>\n",
       "      <td>-0.000586</td>\n",
       "    </tr>\n",
       "  </tbody>\n",
       "</table>\n",
       "</div>"
      ],
      "text/plain": [
       "                  open        high         low       close   adj close  \\\n",
       "date                                                                     \n",
       "2023-07-03  339.190002  340.899994  336.570007  337.989990  337.989990   \n",
       "2023-07-05  335.089996  341.649994  334.730011  338.149994  338.149994   \n",
       "2023-07-06  337.299988  342.989990  335.500000  341.269989  341.269989   \n",
       "2023-07-07  339.320007  341.790009  337.000000  337.220001  337.220001   \n",
       "2023-07-10  334.600006  335.230011  327.589996  331.829987  331.829987   \n",
       "\n",
       "              volume   retorno          op          hi          lo  \\\n",
       "date                                                                 \n",
       "2023-07-03  12508700 -0.007488  337.750000  342.730011  337.200012   \n",
       "2023-07-05  18172400  0.000473  339.190002  340.899994  336.570007   \n",
       "2023-07-06  28161200  0.009227  335.089996  341.649994  334.730011   \n",
       "2023-07-07  21185300 -0.011867  337.299988  342.989990  335.500000   \n",
       "2023-07-10  31765872 -0.015984  339.320007  341.790009  337.000000   \n",
       "\n",
       "                   clo         vol      SMA 15      SMA 60    MSD 15  \\\n",
       "date                                                                   \n",
       "2023-07-03  340.540009  26823800.0  336.110000  314.281499  0.015559   \n",
       "2023-07-05  337.989990  12508700.0  336.856665  315.175666  0.015790   \n",
       "2023-07-06  338.149994  18172400.0  337.276664  315.951499  0.015370   \n",
       "2023-07-07  341.269989  28161200.0  337.741996  316.816165  0.015429   \n",
       "2023-07-10  337.220001  21185300.0  337.733997  317.722665  0.015638   \n",
       "\n",
       "              MSD 60        VWAP        RSI  prediction  \n",
       "date                                                     \n",
       "2023-07-03  0.016990  335.219746  63.311139   -0.000284  \n",
       "2023-07-05  0.016962  336.509995  54.913200   -0.000517  \n",
       "2023-07-06  0.016705  337.644316  55.377442   -0.000444  \n",
       "2023-07-07  0.016672  338.616719  64.329740   -0.000440  \n",
       "2023-07-10  0.016449  339.267291  48.531365   -0.000586  "
      ]
     },
     "execution_count": 46,
     "metadata": {},
     "output_type": "execute_result"
    }
   ],
   "source": [
    "df.tail()"
   ]
  },
  {
   "cell_type": "markdown",
   "metadata": {},
   "source": [
    "A linha de código abaixo está criando uma nova coluna chamada \"strategy\" no DataFrame df. Os valores para essa coluna são calculados tomando a coluna \"retorno\" e multiplicando-a pelo sinal da previsão do dia anterior (obtido através de df[\"prediction\"].shift(1)).\n",
    "\n",
    "A função np.sign retorna -1 se o número for negativo, 0 se o número for zero e 1 se o número for positivo.\n",
    "\n",
    "Ao usar shift(1), você está pegando os valores de \"prediction\" do dia anterior, porque shift(1) desloca os valores para baixo em uma linha.\n",
    "\n",
    "Em outras palavras, a estratégia aqui é que se a previsão do dia anterior era positiva, então você assume uma posição longa (compra) e seu retorno é simplesmente o retorno do ativo. Se a previsão do dia anterior era negativa, então você assume uma posição curta (vende), e o seu retorno é o negativo do retorno do ativo (porque quando você vende um ativo a descoberto, você ganha dinheiro quando o preço cai).\n",
    "\n",
    "É uma estratégia de negociação baseada nas previsões do dia anterior. Essa estratégia presume que você pode perfeitamente cronometrar suas negociações no final do dia com base nas previsões do dia anterior.\n",
    "\n",
    "Nota: A execução dessa estratégia seria um pouco mais complicada e incluiria custos de transação."
   ]
  },
  {
   "cell_type": "code",
   "execution_count": 47,
   "metadata": {
    "colab": {
     "base_uri": "https://localhost:8080/"
    },
    "id": "g_J7dlsDW5ae",
    "outputId": "7d11afc2-f1e5-458d-f8c9-fdc7694bcb71"
   },
   "outputs": [],
   "source": [
    "# Calcula a estratégia\n",
    "df[\"strategy\"] = df[\"retorno\"] * np.sign(df[\"prediction\"].shift(1))"
   ]
  },
  {
   "cell_type": "code",
   "execution_count": 48,
   "metadata": {},
   "outputs": [
    {
     "data": {
      "text/html": [
       "<div>\n",
       "<style scoped>\n",
       "    .dataframe tbody tr th:only-of-type {\n",
       "        vertical-align: middle;\n",
       "    }\n",
       "\n",
       "    .dataframe tbody tr th {\n",
       "        vertical-align: top;\n",
       "    }\n",
       "\n",
       "    .dataframe thead th {\n",
       "        text-align: right;\n",
       "    }\n",
       "</style>\n",
       "<table border=\"1\" class=\"dataframe\">\n",
       "  <thead>\n",
       "    <tr style=\"text-align: right;\">\n",
       "      <th></th>\n",
       "      <th>open</th>\n",
       "      <th>high</th>\n",
       "      <th>low</th>\n",
       "      <th>close</th>\n",
       "      <th>adj close</th>\n",
       "      <th>volume</th>\n",
       "      <th>retorno</th>\n",
       "      <th>op</th>\n",
       "      <th>hi</th>\n",
       "      <th>lo</th>\n",
       "      <th>clo</th>\n",
       "      <th>vol</th>\n",
       "      <th>SMA 15</th>\n",
       "      <th>SMA 60</th>\n",
       "      <th>MSD 15</th>\n",
       "      <th>MSD 60</th>\n",
       "      <th>VWAP</th>\n",
       "      <th>RSI</th>\n",
       "      <th>prediction</th>\n",
       "      <th>strategy</th>\n",
       "    </tr>\n",
       "    <tr>\n",
       "      <th>date</th>\n",
       "      <th></th>\n",
       "      <th></th>\n",
       "      <th></th>\n",
       "      <th></th>\n",
       "      <th></th>\n",
       "      <th></th>\n",
       "      <th></th>\n",
       "      <th></th>\n",
       "      <th></th>\n",
       "      <th></th>\n",
       "      <th></th>\n",
       "      <th></th>\n",
       "      <th></th>\n",
       "      <th></th>\n",
       "      <th></th>\n",
       "      <th></th>\n",
       "      <th></th>\n",
       "      <th></th>\n",
       "      <th></th>\n",
       "      <th></th>\n",
       "    </tr>\n",
       "  </thead>\n",
       "  <tbody>\n",
       "    <tr>\n",
       "      <th>2023-07-03</th>\n",
       "      <td>339.190002</td>\n",
       "      <td>340.899994</td>\n",
       "      <td>336.570007</td>\n",
       "      <td>337.989990</td>\n",
       "      <td>337.989990</td>\n",
       "      <td>12508700</td>\n",
       "      <td>-0.007488</td>\n",
       "      <td>337.750000</td>\n",
       "      <td>342.730011</td>\n",
       "      <td>337.200012</td>\n",
       "      <td>340.540009</td>\n",
       "      <td>26823800.0</td>\n",
       "      <td>336.110000</td>\n",
       "      <td>314.281499</td>\n",
       "      <td>0.015559</td>\n",
       "      <td>0.016990</td>\n",
       "      <td>335.219746</td>\n",
       "      <td>63.311139</td>\n",
       "      <td>-0.000284</td>\n",
       "      <td>0.007488</td>\n",
       "    </tr>\n",
       "    <tr>\n",
       "      <th>2023-07-05</th>\n",
       "      <td>335.089996</td>\n",
       "      <td>341.649994</td>\n",
       "      <td>334.730011</td>\n",
       "      <td>338.149994</td>\n",
       "      <td>338.149994</td>\n",
       "      <td>18172400</td>\n",
       "      <td>0.000473</td>\n",
       "      <td>339.190002</td>\n",
       "      <td>340.899994</td>\n",
       "      <td>336.570007</td>\n",
       "      <td>337.989990</td>\n",
       "      <td>12508700.0</td>\n",
       "      <td>336.856665</td>\n",
       "      <td>315.175666</td>\n",
       "      <td>0.015790</td>\n",
       "      <td>0.016962</td>\n",
       "      <td>336.509995</td>\n",
       "      <td>54.913200</td>\n",
       "      <td>-0.000517</td>\n",
       "      <td>-0.000473</td>\n",
       "    </tr>\n",
       "    <tr>\n",
       "      <th>2023-07-06</th>\n",
       "      <td>337.299988</td>\n",
       "      <td>342.989990</td>\n",
       "      <td>335.500000</td>\n",
       "      <td>341.269989</td>\n",
       "      <td>341.269989</td>\n",
       "      <td>28161200</td>\n",
       "      <td>0.009227</td>\n",
       "      <td>335.089996</td>\n",
       "      <td>341.649994</td>\n",
       "      <td>334.730011</td>\n",
       "      <td>338.149994</td>\n",
       "      <td>18172400.0</td>\n",
       "      <td>337.276664</td>\n",
       "      <td>315.951499</td>\n",
       "      <td>0.015370</td>\n",
       "      <td>0.016705</td>\n",
       "      <td>337.644316</td>\n",
       "      <td>55.377442</td>\n",
       "      <td>-0.000444</td>\n",
       "      <td>-0.009227</td>\n",
       "    </tr>\n",
       "    <tr>\n",
       "      <th>2023-07-07</th>\n",
       "      <td>339.320007</td>\n",
       "      <td>341.790009</td>\n",
       "      <td>337.000000</td>\n",
       "      <td>337.220001</td>\n",
       "      <td>337.220001</td>\n",
       "      <td>21185300</td>\n",
       "      <td>-0.011867</td>\n",
       "      <td>337.299988</td>\n",
       "      <td>342.989990</td>\n",
       "      <td>335.500000</td>\n",
       "      <td>341.269989</td>\n",
       "      <td>28161200.0</td>\n",
       "      <td>337.741996</td>\n",
       "      <td>316.816165</td>\n",
       "      <td>0.015429</td>\n",
       "      <td>0.016672</td>\n",
       "      <td>338.616719</td>\n",
       "      <td>64.329740</td>\n",
       "      <td>-0.000440</td>\n",
       "      <td>0.011867</td>\n",
       "    </tr>\n",
       "    <tr>\n",
       "      <th>2023-07-10</th>\n",
       "      <td>334.600006</td>\n",
       "      <td>335.230011</td>\n",
       "      <td>327.589996</td>\n",
       "      <td>331.829987</td>\n",
       "      <td>331.829987</td>\n",
       "      <td>31765872</td>\n",
       "      <td>-0.015984</td>\n",
       "      <td>339.320007</td>\n",
       "      <td>341.790009</td>\n",
       "      <td>337.000000</td>\n",
       "      <td>337.220001</td>\n",
       "      <td>21185300.0</td>\n",
       "      <td>337.733997</td>\n",
       "      <td>317.722665</td>\n",
       "      <td>0.015638</td>\n",
       "      <td>0.016449</td>\n",
       "      <td>339.267291</td>\n",
       "      <td>48.531365</td>\n",
       "      <td>-0.000586</td>\n",
       "      <td>0.015984</td>\n",
       "    </tr>\n",
       "  </tbody>\n",
       "</table>\n",
       "</div>"
      ],
      "text/plain": [
       "                  open        high         low       close   adj close  \\\n",
       "date                                                                     \n",
       "2023-07-03  339.190002  340.899994  336.570007  337.989990  337.989990   \n",
       "2023-07-05  335.089996  341.649994  334.730011  338.149994  338.149994   \n",
       "2023-07-06  337.299988  342.989990  335.500000  341.269989  341.269989   \n",
       "2023-07-07  339.320007  341.790009  337.000000  337.220001  337.220001   \n",
       "2023-07-10  334.600006  335.230011  327.589996  331.829987  331.829987   \n",
       "\n",
       "              volume   retorno          op          hi          lo  \\\n",
       "date                                                                 \n",
       "2023-07-03  12508700 -0.007488  337.750000  342.730011  337.200012   \n",
       "2023-07-05  18172400  0.000473  339.190002  340.899994  336.570007   \n",
       "2023-07-06  28161200  0.009227  335.089996  341.649994  334.730011   \n",
       "2023-07-07  21185300 -0.011867  337.299988  342.989990  335.500000   \n",
       "2023-07-10  31765872 -0.015984  339.320007  341.790009  337.000000   \n",
       "\n",
       "                   clo         vol      SMA 15      SMA 60    MSD 15  \\\n",
       "date                                                                   \n",
       "2023-07-03  340.540009  26823800.0  336.110000  314.281499  0.015559   \n",
       "2023-07-05  337.989990  12508700.0  336.856665  315.175666  0.015790   \n",
       "2023-07-06  338.149994  18172400.0  337.276664  315.951499  0.015370   \n",
       "2023-07-07  341.269989  28161200.0  337.741996  316.816165  0.015429   \n",
       "2023-07-10  337.220001  21185300.0  337.733997  317.722665  0.015638   \n",
       "\n",
       "              MSD 60        VWAP        RSI  prediction  strategy  \n",
       "date                                                               \n",
       "2023-07-03  0.016990  335.219746  63.311139   -0.000284  0.007488  \n",
       "2023-07-05  0.016962  336.509995  54.913200   -0.000517 -0.000473  \n",
       "2023-07-06  0.016705  337.644316  55.377442   -0.000444 -0.009227  \n",
       "2023-07-07  0.016672  338.616719  64.329740   -0.000440  0.011867  \n",
       "2023-07-10  0.016449  339.267291  48.531365   -0.000586  0.015984  "
      ]
     },
     "execution_count": 48,
     "metadata": {},
     "output_type": "execute_result"
    }
   ],
   "source": [
    "df.tail()"
   ]
  },
  {
   "cell_type": "code",
   "execution_count": 49,
   "metadata": {
    "colab": {
     "base_uri": "https://localhost:8080/",
     "height": 341
    },
    "id": "_X5l7ba_Tk69",
    "outputId": "ef8bda16-4f47-4cb8-ceb3-a4fe6d1fe309"
   },
   "outputs": [
    {
     "data": {
      "image/png": "[encoded data removed]",
      "text/plain": [
       "<Figure size 800x550 with 1 Axes>"
      ]
     },
     "metadata": {},
     "output_type": "display_data"
    }
   ],
   "source": [
    "# Plot do acumulado\n",
    "df[\"strategy\"].iloc[:].cumsum().plot()\n",
    "plt.show()"
   ]
  },
  {
   "cell_type": "markdown",
   "metadata": {},
   "source": [
    "Investir nas ações da Microsoft pode gerar retorno positivo ao longo do tempo."
   ]
  }
 ],
 "metadata": {
  "anaconda-cloud": {},
  "colab": {
   "include_colab_link": true,
   "provenance": []
  },
  "gpuClass": "standard",
  "kernelspec": {
   "display_name": "Python 3 (ipykernel)",
   "language": "python",
   "name": "python3"
  },
  "language_info": {
   "codemirror_mode": {
    "name": "ipython",
    "version": 3
   },
   "file_extension": ".py",
   "mimetype": "text/x-python",
   "name": "python",
   "nbconvert_exporter": "python",
   "pygments_lexer": "ipython3",
   "version": "3.9.13"
  }
 },
 "nbformat": 4,
 "nbformat_minor": 1
}
